{
 "cells": [
  {
   "cell_type": "code",
   "execution_count": 1,
   "metadata": {},
   "outputs": [],
   "source": [
    "import porespy as ps"
   ]
  },
  {
   "cell_type": "code",
   "execution_count": 5,
   "metadata": {},
   "outputs": [
    {
     "name": "stdout",
     "output_type": "stream",
     "text": [
      "\n",
      "    Generate a packing of overlapping mono-disperse spheres\n",
      "\n",
      "    Parameters\n",
      "    ----------\n",
      "    shape : list\n",
      "        The size of the image to generate in [Nx, Ny, Nz] where Ni is the\n",
      "        number of voxels in the i-th direction.\n",
      "\n",
      "    radius : scalar\n",
      "        The radius of spheres in the packing.\n",
      "\n",
      "    porosity : scalar\n",
      "        The porosity of the final image, accurate to the given tolerance.\n",
      "\n",
      "    iter_max : int\n",
      "        Maximum number of iterations for the iterative algorithm that improves\n",
      "        the porosity of the final image to match the given value.\n",
      "\n",
      "    tol : float\n",
      "        Tolerance for porosity of the final image compared to the given value.\n",
      "\n",
      "    Returns\n",
      "    -------\n",
      "    image : ND-array\n",
      "        A boolean array with ``True`` values denoting the pore space\n",
      "\n",
      "    Notes\n",
      "    -----\n",
      "    This method can also be used to generate a dispersion of hollows by\n",
      "    treating ``porosity`` as solid volume fraction and inverting the\n",
      "    returned image.\n",
      "\n",
      "    \n"
     ]
    }
   ],
   "source": [
    "print(ps.generators.overlapping_spheres.__doc__)"
   ]
  },
  {
   "cell_type": "code",
   "execution_count": 3,
   "metadata": {},
   "outputs": [],
   "source": [
    "im = ps.generators.overlapping_spheres(shape=[200, 200], radius=10, porosity=0.5)"
   ]
  },
  {
   "cell_type": "code",
   "execution_count": 4,
   "metadata": {},
   "outputs": [
    {
     "data": {
      "text/plain": [
       "<AxesSubplot:>"
      ]
     },
     "execution_count": 4,
     "metadata": {},
     "output_type": "execute_result"
    },
    {
     "data": {
      "image/png": "[encoded data removed]",
      "text/plain": [
       "<Figure size 432x288 with 1 Axes>"
      ]
     },
     "metadata": {
      "needs_background": "light"
     },
     "output_type": "display_data"
    }
   ],
   "source": [
    "ps.imshow(im)"
   ]
  }
 ],
 "metadata": {
  "kernelspec": {
   "display_name": "Python 3",
   "language": "python",
   "name": "python3"
  },
  "language_info": {
   "codemirror_mode": {
    "name": "ipython",
    "version": 3
   },
   "file_extension": ".py",
   "mimetype": "text/x-python",
   "name": "python",
   "nbconvert_exporter": "python",
   "pygments_lexer": "ipython3",
   "version": "3.8.5"
  }
 },
 "nbformat": 4,
 "nbformat_minor": 4
}
